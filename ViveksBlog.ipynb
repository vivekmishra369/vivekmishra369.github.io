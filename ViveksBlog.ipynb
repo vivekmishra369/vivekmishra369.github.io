{
 "cells": [
  {
   "cell_type": "markdown",
   "metadata": {},
   "source": [
    "# Vivek's blog"
   ]
  },
  {
   "cell_type": "markdown",
   "metadata": {},
   "source": [
    "#### Note to reader:\n",
    "\n",
    "This is an archive of algorithms that I have imlemented. I have tried to do it in the style of an instructional blog to facilitate code readability in the future for myself. I will be greatful if you find and report bugs. Suggestions about improving implementations are always welcome. Feel free to reuse my code in any form or manner you deem fit."
   ]
  },
  {
   "cell_type": "markdown",
   "metadata": {},
   "source": [
    "## Implementing gradient descent"
   ]
  },
  {
   "cell_type": "code",
   "execution_count": 1,
   "metadata": {},
   "outputs": [],
   "source": [
    "import numpy as np\n",
    "import matplotlib.pyplot as plt\n",
    "import pandas as pd\n",
    "import urllib2\n",
    "import math\n",
    "from matplotlib import style\n",
    "style.use('ggplot')\n",
    "%matplotlib inline"
   ]
  },
  {
   "cell_type": "code",
   "execution_count": 2,
   "metadata": {},
   "outputs": [
    {
     "data": {
      "text/html": [
       "<style>.container { width:100% !important; }</style>"
      ],
      "text/plain": [
       "<IPython.core.display.HTML object>"
      ]
     },
     "metadata": {},
     "output_type": "display_data"
    }
   ],
   "source": [
    "from IPython.core.display import display, HTML\n",
    "display(HTML(\"<style>.container { width:100% !important; }</style>\"))"
   ]
  },
  {
   "cell_type": "code",
   "execution_count": 3,
   "metadata": {},
   "outputs": [
    {
     "name": "stdout",
     "output_type": "stream",
     "text": [
      "*** No CODEPAGE record, no encoding_override: will use 'ascii'\n",
      "----------------------------------------------------------------------------------------------------\n",
      "xPoints:  [[108, 50.40336704032592], [19, 13.827458040158415], [13, 2.08344191959546], [124, 60.27845123113404], [40, 4.8996926488755665], [57, 37.13581214966093], [23, 0.8944623427241285], [14, 1.925012562910786], [45, 30.625724825484834], [10, 3.7157542526472365], [5, 0.5801038694270977], [48, 21.707094078192053], [11, 0.4010362470045169], [23, 0.5321899717651752], [7, 1.075371334282086], [2, 0.08412134776025337], [24, 1.168905724265139], [6, 0.6406650774584448], [3, 1.194888697210878], [23, 11.583494784881083], [6, 4.610272542454685], [9, 6.835426291219185], [9, 5.526779269975881], [3, 2.5342252871445226], [29, 22.04443388666395], [7, 0.6509362851627296], [4, 3.8395982590898186], [20, 3.138983697503841], [7, 6.077583568712467], [4, 0.8197857421186479], [0, 0.0], [25, 19.203422793913425], [6, 1.6673214908508591], [5, 0.9217420742619514], [22, 10.540051326465255], [11, 0.21680793465726245], [61, 0.909722576091468], [12, 11.451891258466574], [4, 3.114317554720379], [16, 10.98460648013661], [13, 7.88404455388744], [60, 47.250712642250996], [41, 23.37750523050855], [37, 30.326433013058715], [55, 17.630094225600885], [41, 7.694547080066267], [11, 2.8898802221241118], [27, 2.791515761780428], [8, 0.3112607584421401], [3, 0.4221696970613954], [17, 7.566096525157854], [13, 7.552161894973021], [13, 8.03315461702003], [15, 14.434463763040256], [8, 1.7942122646950676], [29, 25.43223335105056], [30, 19.022452709116195], [24, 20.695737405639743], [9, 8.887229944029666], [31, 3.06952485257308], [14, 12.197127652640692], [53, 5.823948073107319], [26, 2.9520993084237475]]\n",
      "----------------------------------------------------------------------------------------------------\n",
      "yPoints:  [ 392.5   46.2   15.7  422.2  119.4  170.9   56.9   77.5  214.    65.3\n",
      "   20.9  248.1   23.5   39.6   48.8    6.6  134.9   50.9    4.4  113.\n",
      "   14.8   48.7   52.1   13.2  103.9   77.5   11.8   98.1   27.9   38.1\n",
      "    0.    69.2   14.6   40.3  161.5   57.2  217.6   58.1   12.6   59.6\n",
      "   89.9  202.4  181.3  152.8  162.8   73.4   21.3   92.6   76.1   39.9\n",
      "  142.1   93.    31.9   32.1   55.6  133.3  194.5  137.9   87.4  209.8\n",
      "   95.5  244.6  187.5]\n",
      "----------------------------------------------------------------------------------------------------\n",
      "Combined coordinates:  [([108, 50.40336704032592], 392.5), ([19, 13.827458040158415], 46.200000000000003), ([13, 2.08344191959546], 15.699999999999999), ([124, 60.27845123113404], 422.19999999999999), ([40, 4.8996926488755665], 119.40000000000001), ([57, 37.13581214966093], 170.90000000000001), ([23, 0.8944623427241285], 56.899999999999999), ([14, 1.925012562910786], 77.5), ([45, 30.625724825484834], 214.0), ([10, 3.7157542526472365], 65.299999999999997), ([5, 0.5801038694270977], 20.899999999999999), ([48, 21.707094078192053], 248.09999999999999), ([11, 0.4010362470045169], 23.5), ([23, 0.5321899717651752], 39.600000000000001), ([7, 1.075371334282086], 48.799999999999997), ([2, 0.08412134776025337], 6.5999999999999996), ([24, 1.168905724265139], 134.90000000000001), ([6, 0.6406650774584448], 50.899999999999999), ([3, 1.194888697210878], 4.4000000000000004), ([23, 11.583494784881083], 113.0), ([6, 4.610272542454685], 14.800000000000001), ([9, 6.835426291219185], 48.700000000000003), ([9, 5.526779269975881], 52.100000000000001), ([3, 2.5342252871445226], 13.199999999999999), ([29, 22.04443388666395], 103.90000000000001), ([7, 0.6509362851627296], 77.5), ([4, 3.8395982590898186], 11.800000000000001), ([20, 3.138983697503841], 98.099999999999994), ([7, 6.077583568712467], 27.899999999999999), ([4, 0.8197857421186479], 38.100000000000001), ([0, 0.0], 0.0), ([25, 19.203422793913425], 69.200000000000003), ([6, 1.6673214908508591], 14.6), ([5, 0.9217420742619514], 40.299999999999997), ([22, 10.540051326465255], 161.5), ([11, 0.21680793465726245], 57.200000000000003), ([61, 0.909722576091468], 217.59999999999999), ([12, 11.451891258466574], 58.100000000000001), ([4, 3.114317554720379], 12.6), ([16, 10.98460648013661], 59.600000000000001), ([13, 7.88404455388744], 89.900000000000006), ([60, 47.250712642250996], 202.40000000000001), ([41, 23.37750523050855], 181.30000000000001), ([37, 30.326433013058715], 152.80000000000001), ([55, 17.630094225600885], 162.80000000000001), ([41, 7.694547080066267], 73.400000000000006), ([11, 2.8898802221241118], 21.300000000000001), ([27, 2.791515761780428], 92.599999999999994), ([8, 0.3112607584421401], 76.099999999999994), ([3, 0.4221696970613954], 39.899999999999999), ([17, 7.566096525157854], 142.09999999999999), ([13, 7.552161894973021], 93.0), ([13, 8.03315461702003], 31.899999999999999), ([15, 14.434463763040256], 32.100000000000001), ([8, 1.7942122646950676], 55.600000000000001), ([29, 25.43223335105056], 133.30000000000001), ([30, 19.022452709116195], 194.5), ([24, 20.695737405639743], 137.90000000000001), ([9, 8.887229944029666], 87.400000000000006), ([31, 3.06952485257308], 209.80000000000001), ([14, 12.197127652640692], 95.5), ([53, 5.823948073107319], 244.59999999999999), ([26, 2.9520993084237475], 187.5)]\n"
     ]
    }
   ],
   "source": [
    "# downloading data \n",
    "dataFile = urllib2.urlopen(\"http://college.cengage.com/mathematics/brase/understandable_statistics/7e/students/datasets/slr/excel/slr06.xls\")\n",
    "parsedData = pd.ExcelFile(dataFile)\n",
    "data = parsedData.parse\n",
    "xPoints = np.round(np.array(data().X),2)\n",
    "tmp = list(xPoints)\n",
    "tmp = [[_,np.random.random()*_] for _ in xPoints]\n",
    "xPoints = tmp\n",
    "yPoints = np.round(np.array(data().Y),2)\n",
    "print(\"-\"*100)\n",
    "print\"xPoints: \", xPoints\n",
    "print(\"-\"*100)\n",
    "print\"yPoints: \",yPoints\n",
    "print(\"-\"*100)\n",
    "print\"Combined coordinates: \",[_ for _ in zip(xPoints,yPoints)]"
   ]
  },
  {
   "cell_type": "markdown",
   "metadata": {},
   "source": [
    "##### Plotting X vs Y in every dimension of X"
   ]
  },
  {
   "cell_type": "code",
   "execution_count": 4,
   "metadata": {},
   "outputs": [
    {
     "data": {
      "text/plain": [
       "[<matplotlib.lines.Line2D at 0x7f67fc24fa90>]"
      ]
     },
     "execution_count": 4,
     "metadata": {},
     "output_type": "execute_result"
    },
    {
     "data": {
      "image/png": "[encoded data removed]",
      "text/plain": [
       "<matplotlib.figure.Figure at 0x7f68281a3790>"
      ]
     },
     "metadata": {},
     "output_type": "display_data"
    }
   ],
   "source": [
    "plt.plot([x[1] for x in xPoints],yPoints,'ro')"
   ]
  },
  {
   "cell_type": "code",
   "execution_count": 5,
   "metadata": {},
   "outputs": [
    {
     "data": {
      "text/plain": [
       "[<matplotlib.lines.Line2D at 0x7f67f89c0f10>]"
      ]
     },
     "execution_count": 5,
     "metadata": {},
     "output_type": "execute_result"
    },
    {
     "data": {
      "image/png": "[encoded data removed]",
      "text/plain": [
       "<matplotlib.figure.Figure at 0x7f67fc25e4d0>"
      ]
     },
     "metadata": {},
     "output_type": "display_data"
    }
   ],
   "source": [
    "plt.plot([x[0] for x in xPoints],yPoints,'ro')\n"
   ]
  },
  {
   "cell_type": "code",
   "execution_count": 6,
   "metadata": {},
   "outputs": [
    {
     "data": {
      "text/plain": [
       "[<matplotlib.lines.Line2D at 0x7f67f88a7d90>]"
      ]
     },
     "execution_count": 6,
     "metadata": {},
     "output_type": "execute_result"
    },
    {
     "data": {
      "image/png": "[encoded data removed]",
      "text/plain": [
       "<matplotlib.figure.Figure at 0x7f67f8932d10>"
      ]
     },
     "metadata": {},
     "output_type": "display_data"
    }
   ],
   "source": [
    "# initialize everything formally\n",
    "y = np.array(yPoints)\n",
    "x = np.array(xPoints)\n",
    "m = np.array([np.random.random() for _ in range(np.shape(x)[1])])\n",
    "c = np.array(np.random.random())\n",
    "\n",
    "# model prediction\n",
    "#yhat = np.sum(m*x, axis= 1) +c\n",
    "# building parameter vector\n",
    "theta = np.append(m,c)\n",
    "# adding the intercept term to every X i.e. [2.2,4.5] becomes [2.2, 4.5, 1] \n",
    "xPoints =  np.append(xPoints,np.reshape(np.repeat(1,np.shape(xPoints)[0]), newshape=(np.shape(xPoints)[0],1)),axis=1)\n",
    "# now prediction with intercet term\n",
    "yhat = np.sum(theta*xPoints, axis= 1) # this implements yhat = m*x + c\n",
    "# learning rate\n",
    "alpha = 0.001\n",
    "# delTheta = (2.0/len(xPoints))*(np.sum(theta*(xPoints),axis=1) - yPoints)*np.sum(xPoints,axis=1)\n",
    "errorArray = []\n",
    "delparamArray = []\n",
    "temp = np.zeros(theta.shape)\n",
    "for _ in range(1000):\n",
    "    for ind in range(len(theta)):\n",
    "        yhat = np.sum(theta*xPoints, axis= 1)\n",
    "        error = (yhat - y)\n",
    "        \n",
    "        delParam = np.multiply(error, xPoints[:,ind])\n",
    "        temp[ind] = theta[ind] - ((alpha / len(xPoints)) * np.sum(delParam))\n",
    "    errorArray.append(np.sum((yhat-y)**2))\n",
    "    theta = temp\n",
    "\n",
    "\n",
    "    \n",
    "plt.plot(errorArray)"
   ]
  },
  {
   "cell_type": "markdown",
   "metadata": {},
   "source": [
    "##### Now to verify that there isn't something screwey with the implementation, I will cross validate my parameter vector with scikit learn"
   ]
  },
  {
   "cell_type": "code",
   "execution_count": 7,
   "metadata": {},
   "outputs": [
    {
     "name": "stdout",
     "output_type": "stream",
     "text": [
      "('Scikit Coefficients: \\n', array([ 3.37096089,  0.09483501,  0.        ]))\n",
      "('Coefficients in current imlementaton: \\n', array([ 3.63666635,  0.07113776,  8.201387  ]))\n"
     ]
    }
   ],
   "source": [
    "from sklearn import linear_model\n",
    "regr = linear_model.LinearRegression()\n",
    "regr.fit(xPoints, yPoints)\n",
    "print('Scikit Coefficients: \\n', regr.coef_)\n",
    "print('Coefficients in current imlementaton: \\n',theta)"
   ]
  },
  {
   "cell_type": "markdown",
   "metadata": {},
   "source": [
    "##### Comparing model performances"
   ]
  },
  {
   "cell_type": "code",
   "execution_count": 8,
   "metadata": {},
   "outputs": [
    {
     "name": "stdout",
     "output_type": "stream",
     "text": [
      "Mean squared error scikit: 1250.22\n",
      "Mean squared error current implementation: 1320.78\n"
     ]
    }
   ],
   "source": [
    "print(\"Mean squared error scikit: %.2f\" % np.mean((regr.predict(xPoints) - yPoints) ** 2))\n",
    "print(\"Mean squared error current implementation: %.2f\" % np.mean((np.sum(theta*xPoints, axis= 1) - yPoints)**2))"
   ]
  },
  {
   "cell_type": "markdown",
   "metadata": {},
   "source": [
    "#### Lets just say we didn't do too terribly"
   ]
  },
  {
   "cell_type": "code",
   "execution_count": null,
   "metadata": {
    "collapsed": true
   },
   "outputs": [],
   "source": []
  }
 ],
 "metadata": {
  "kernelspec": {
   "display_name": "Python 2",
   "language": "python",
   "name": "python2"
  },
  "language_info": {
   "codemirror_mode": {
    "name": "ipython",
    "version": 2
   },
   "file_extension": ".py",
   "mimetype": "text/x-python",
   "name": "python",
   "nbconvert_exporter": "python",
   "pygments_lexer": "ipython2",
   "version": "2.7.6"
  }
 },
 "nbformat": 4,
 "nbformat_minor": 2
}
