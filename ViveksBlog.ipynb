{
 "cells": [
  {
   "cell_type": "markdown",
   "metadata": {},
   "source": [
    "# Vivek's blog"
   ]
  },
  {
   "cell_type": "markdown",
   "metadata": {},
   "source": [
    "#### Note to reader:\n",
    "\n",
    "This is an archive of algorithms that I have imlemented. I have tried to do it in the style of an instructional blog to facilitate code readability in the future for myself. I will be greatful if you find and report bugs. Suggestions about improving implementations are always welcome. Feel free to reuse my code in any form or manner you deem fit."
   ]
  },
  {
   "cell_type": "markdown",
   "metadata": {},
   "source": [
    "## Implementing gradient descent"
   ]
  },
  {
   "cell_type": "code",
   "execution_count": 1,
   "metadata": {
    "collapsed": true
   },
   "outputs": [],
   "source": [
    "import numpy as np\n",
    "import matplotlib.pyplot as plt\n",
    "import pandas as pd\n",
    "import urllib2\n",
    "import math\n",
    "from matplotlib import style\n",
    "style.use('ggplot')\n",
    "%matplotlib inline"
   ]
  },
  {
   "cell_type": "code",
   "execution_count": 2,
   "metadata": {},
   "outputs": [
    {
     "data": {
      "text/html": [
       "<style>.container { width:100% !important; }</style>"
      ],
      "text/plain": [
       "<IPython.core.display.HTML object>"
      ]
     },
     "metadata": {},
     "output_type": "display_data"
    }
   ],
   "source": [
    "from IPython.core.display import display, HTML\n",
    "display(HTML(\"<style>.container { width:100% !important; }</style>\"))"
   ]
  },
  {
   "cell_type": "code",
   "execution_count": 3,
   "metadata": {},
   "outputs": [
    {
     "name": "stdout",
     "output_type": "stream",
     "text": [
      "*** No CODEPAGE record, no encoding_override: will use 'ascii'\n",
      "----------------------------------------------------------------------------------------------------\n",
      "xPoints:  [[108, 74.64152410298013], [19, 13.524680559993387], [13, 7.609140184149328], [124, 8.062398070858704], [40, 30.521728364285018], [57, 44.23606501385153], [23, 21.15499361599814], [14, 13.789323500789948], [45, 41.99880160207271], [10, 9.367580698306263], [5, 3.121413450820965], [48, 30.558467374483445], [11, 7.727102555756799], [23, 11.968483428355965], [7, 0.31072677116281056], [2, 0.14200499657980048], [24, 14.06784473535625], [6, 1.3272407405800133], [3, 2.654841140988901], [23, 21.34052373812086], [6, 1.8835165950263675], [9, 1.365754371591949], [9, 0.36779750773639397], [3, 1.6602275705705454], [29, 14.225145771958145], [7, 5.585770032162545], [4, 0.17820021186676005], [20, 10.254206177255336], [7, 4.982516483316293], [4, 3.486302797324578], [0, 0.0], [25, 9.936905182253788], [6, 3.6474501037521025], [5, 4.7712605156245775], [22, 7.3294304004445765], [11, 5.553239837327092], [61, 23.460643116026773], [12, 11.334137635083845], [4, 3.941082854117366], [16, 4.939093058960474], [13, 10.06718927893178], [60, 37.51952864099487], [41, 19.959815127603036], [37, 3.670736715583193], [55, 52.38671619602658], [41, 40.64280070269078], [11, 0.30073933140305154], [27, 11.36595256169058], [8, 3.458334871885496], [3, 0.29143646112354193], [17, 4.62261919738756], [13, 4.931383676478323], [13, 7.888269713507957], [15, 6.298656144009253], [8, 4.808787539520617], [29, 28.441110995226254], [30, 17.92997993022136], [24, 6.731375677892646], [9, 1.7708278163935347], [31, 15.06792401626995], [14, 5.317696085103801], [53, 37.73525495593093], [26, 6.545275745469788]]\n",
      "----------------------------------------------------------------------------------------------------\n",
      "yPoints:  [ 392.5   46.2   15.7  422.2  119.4  170.9   56.9   77.5  214.    65.3\n",
      "   20.9  248.1   23.5   39.6   48.8    6.6  134.9   50.9    4.4  113.\n",
      "   14.8   48.7   52.1   13.2  103.9   77.5   11.8   98.1   27.9   38.1\n",
      "    0.    69.2   14.6   40.3  161.5   57.2  217.6   58.1   12.6   59.6\n",
      "   89.9  202.4  181.3  152.8  162.8   73.4   21.3   92.6   76.1   39.9\n",
      "  142.1   93.    31.9   32.1   55.6  133.3  194.5  137.9   87.4  209.8\n",
      "   95.5  244.6  187.5]\n",
      "----------------------------------------------------------------------------------------------------\n",
      "Combined coordinates:  [([108, 74.64152410298013], 392.5), ([19, 13.524680559993387], 46.200000000000003), ([13, 7.609140184149328], 15.699999999999999), ([124, 8.062398070858704], 422.19999999999999), ([40, 30.521728364285018], 119.40000000000001), ([57, 44.23606501385153], 170.90000000000001), ([23, 21.15499361599814], 56.899999999999999), ([14, 13.789323500789948], 77.5), ([45, 41.99880160207271], 214.0), ([10, 9.367580698306263], 65.299999999999997), ([5, 3.121413450820965], 20.899999999999999), ([48, 30.558467374483445], 248.09999999999999), ([11, 7.727102555756799], 23.5), ([23, 11.968483428355965], 39.600000000000001), ([7, 0.31072677116281056], 48.799999999999997), ([2, 0.14200499657980048], 6.5999999999999996), ([24, 14.06784473535625], 134.90000000000001), ([6, 1.3272407405800133], 50.899999999999999), ([3, 2.654841140988901], 4.4000000000000004), ([23, 21.34052373812086], 113.0), ([6, 1.8835165950263675], 14.800000000000001), ([9, 1.365754371591949], 48.700000000000003), ([9, 0.36779750773639397], 52.100000000000001), ([3, 1.6602275705705454], 13.199999999999999), ([29, 14.225145771958145], 103.90000000000001), ([7, 5.585770032162545], 77.5), ([4, 0.17820021186676005], 11.800000000000001), ([20, 10.254206177255336], 98.099999999999994), ([7, 4.982516483316293], 27.899999999999999), ([4, 3.486302797324578], 38.100000000000001), ([0, 0.0], 0.0), ([25, 9.936905182253788], 69.200000000000003), ([6, 3.6474501037521025], 14.6), ([5, 4.7712605156245775], 40.299999999999997), ([22, 7.3294304004445765], 161.5), ([11, 5.553239837327092], 57.200000000000003), ([61, 23.460643116026773], 217.59999999999999), ([12, 11.334137635083845], 58.100000000000001), ([4, 3.941082854117366], 12.6), ([16, 4.939093058960474], 59.600000000000001), ([13, 10.06718927893178], 89.900000000000006), ([60, 37.51952864099487], 202.40000000000001), ([41, 19.959815127603036], 181.30000000000001), ([37, 3.670736715583193], 152.80000000000001), ([55, 52.38671619602658], 162.80000000000001), ([41, 40.64280070269078], 73.400000000000006), ([11, 0.30073933140305154], 21.300000000000001), ([27, 11.36595256169058], 92.599999999999994), ([8, 3.458334871885496], 76.099999999999994), ([3, 0.29143646112354193], 39.899999999999999), ([17, 4.62261919738756], 142.09999999999999), ([13, 4.931383676478323], 93.0), ([13, 7.888269713507957], 31.899999999999999), ([15, 6.298656144009253], 32.100000000000001), ([8, 4.808787539520617], 55.600000000000001), ([29, 28.441110995226254], 133.30000000000001), ([30, 17.92997993022136], 194.5), ([24, 6.731375677892646], 137.90000000000001), ([9, 1.7708278163935347], 87.400000000000006), ([31, 15.06792401626995], 209.80000000000001), ([14, 5.317696085103801], 95.5), ([53, 37.73525495593093], 244.59999999999999), ([26, 6.545275745469788], 187.5)]\n"
     ]
    }
   ],
   "source": [
    "# downloading data \n",
    "dataFile = urllib2.urlopen(\"http://college.cengage.com/mathematics/brase/understandable_statistics/7e/students/datasets/slr/excel/slr06.xls\")\n",
    "parsedData = pd.ExcelFile(dataFile)\n",
    "data = parsedData.parse\n",
    "xPoints = np.round(np.array(data().X),2)\n",
    "tmp = list(xPoints)\n",
    "tmp = [[_,np.random.random()*_] for _ in xPoints]\n",
    "xPoints = tmp\n",
    "yPoints = np.round(np.array(data().Y),2)\n",
    "print(\"-\"*100)\n",
    "print\"xPoints: \", xPoints\n",
    "print(\"-\"*100)\n",
    "print\"yPoints: \",yPoints\n",
    "print(\"-\"*100)\n",
    "print\"Combined coordinates: \",[_ for _ in zip(xPoints,yPoints)]"
   ]
  },
  {
   "cell_type": "markdown",
   "metadata": {},
   "source": [
    "##### Plotting X vs Y in every dimension of X"
   ]
  },
  {
   "cell_type": "code",
   "execution_count": 4,
   "metadata": {},
   "outputs": [
    {
     "data": {
      "text/plain": [
       "[<matplotlib.lines.Line2D at 0x7f3f979e0250>]"
      ]
     },
     "execution_count": 4,
     "metadata": {},
     "output_type": "execute_result"
    },
    {
     "data": {
      "image/png": "[encoded data removed]",
      "text/plain": [
       "<matplotlib.figure.Figure at 0x7f3f98c0a8d0>"
      ]
     },
     "metadata": {},
     "output_type": "display_data"
    }
   ],
   "source": [
    "plt.plot([x[1] for x in xPoints],yPoints,'ro')"
   ]
  },
  {
   "cell_type": "code",
   "execution_count": 5,
   "metadata": {},
   "outputs": [
    {
     "data": {
      "text/plain": [
       "[<matplotlib.lines.Line2D at 0x7f3f94150f10>]"
      ]
     },
     "execution_count": 5,
     "metadata": {},
     "output_type": "execute_result"
    },
    {
     "data": {
      "image/png": "[encoded data removed]",
      "text/plain": [
       "<matplotlib.figure.Figure at 0x7f3f98c0a1d0>"
      ]
     },
     "metadata": {},
     "output_type": "display_data"
    }
   ],
   "source": [
    "plt.plot([x[0] for x in xPoints],yPoints,'ro')\n"
   ]
  },
  {
   "cell_type": "code",
   "execution_count": 6,
   "metadata": {},
   "outputs": [
    {
     "data": {
      "text/plain": [
       "[<matplotlib.lines.Line2D at 0x7f3f94039dd0>]"
      ]
     },
     "execution_count": 6,
     "metadata": {},
     "output_type": "execute_result"
    },
    {
     "data": {
      "image/png": "[encoded data removed]",
      "text/plain": [
       "<matplotlib.figure.Figure at 0x7f3f940c4cd0>"
      ]
     },
     "metadata": {},
     "output_type": "display_data"
    }
   ],
   "source": [
    "# initialize everything formally\n",
    "y = np.array(yPoints)\n",
    "x = np.array(xPoints)\n",
    "m = np.array([np.random.random() for _ in range(np.shape(x)[1])])\n",
    "c = np.array(np.random.random())\n",
    "\n",
    "# model prediction\n",
    "#yhat = np.sum(m*x, axis= 1) +c\n",
    "# building parameter vector\n",
    "theta = np.append(m,c)\n",
    "# adding the intercept term to every X i.e. [2.2,4.5] becomes [2.2, 4.5, 1] \n",
    "xPoints =  np.append(xPoints,np.reshape(np.repeat(1,np.shape(xPoints)[0]), newshape=(np.shape(xPoints)[0],1)),axis=1)\n",
    "# now prediction with intercet term\n",
    "yhat = np.sum(theta*xPoints, axis= 1) # this implements yhat = m*x + c\n",
    "# learning rate\n",
    "alpha = 0.001\n",
    "# delTheta = (2.0/len(xPoints))*(np.sum(theta*(xPoints),axis=1) - yPoints)*np.sum(xPoints,axis=1)\n",
    "errorArray = []\n",
    "delparamArray = []\n",
    "temp = np.zeros(theta.shape)\n",
    "for _ in range(1000):\n",
    "    for ind in range(len(theta)):\n",
    "        yhat = np.sum(theta*xPoints, axis= 1)\n",
    "        error = (yhat - y)\n",
    "        \n",
    "        delParam = np.multiply(error, xPoints[:,ind])\n",
    "        temp[ind] = theta[ind] - ((alpha / len(xPoints)) * np.sum(delParam))\n",
    "    errorArray.append(np.sum((yhat-y)**2))\n",
    "    theta = temp\n",
    "\n",
    "\n",
    "    \n",
    "plt.plot(errorArray)"
   ]
  },
  {
   "cell_type": "markdown",
   "metadata": {},
   "source": [
    "##### Now to verify that there isn't something screwey with the implementation, I will cross validate my parameter vector with scikit learn"
   ]
  },
  {
   "cell_type": "code",
   "execution_count": 7,
   "metadata": {},
   "outputs": [
    {
     "name": "stdout",
     "output_type": "stream",
     "text": [
      "('Scikit Coefficients: \\n', array([ 3.57815255, -0.35057491,  0.        ]))\n",
      "('Coefficients in current imlementaton: \\n', array([ 3.77534517, -0.22612594,  8.61979239]))\n"
     ]
    }
   ],
   "source": [
    "from sklearn import linear_model\n",
    "regr = linear_model.LinearRegression()\n",
    "regr.fit(xPoints, yPoints)\n",
    "print('Scikit Coefficients: \\n', regr.coef_)\n",
    "print('Coefficients in current imlementaton: \\n',theta)"
   ]
  },
  {
   "cell_type": "markdown",
   "metadata": {},
   "source": [
    "##### Comparing model performances"
   ]
  },
  {
   "cell_type": "code",
   "execution_count": 8,
   "metadata": {},
   "outputs": [
    {
     "name": "stdout",
     "output_type": "stream",
     "text": [
      "Mean squared error scikit: 1238.63\n",
      "Mean squared error current implementation: 1310.99\n"
     ]
    }
   ],
   "source": [
    "print(\"Mean squared error scikit: %.2f\" % np.mean((regr.predict(xPoints) - yPoints) ** 2))\n",
    "print(\"Mean squared error current implementation: %.2f\" % np.mean((np.sum(theta*xPoints, axis= 1) - yPoints)**2))"
   ]
  },
  {
   "cell_type": "markdown",
   "metadata": {},
   "source": [
    "#### Lets just say we didn't do too terribly, but talk is cheap, so we will do a significance test between the two error populations\n",
    "\n",
    "Our null hyothesis being that the two error distributions come from the same bigger distribution"
   ]
  },
  {
   "cell_type": "code",
   "execution_count": 20,
   "metadata": {
    "collapsed": true
   },
   "outputs": [],
   "source": [
    "# putting both error distributions in a dataframe\n",
    "\n",
    "scikitErrors = (regr.predict(xPoints) - yPoints)\n",
    "nativeErrors = (np.sum(theta*xPoints, axis= 1) - yPoints)"
   ]
  },
  {
   "cell_type": "code",
   "execution_count": 21,
   "metadata": {},
   "outputs": [
    {
     "data": {
      "text/plain": [
       "(7.7902896371109502, 9.1488892033548435e-11)"
      ]
     },
     "execution_count": 21,
     "metadata": {},
     "output_type": "execute_result"
    }
   ],
   "source": [
    "import scipy.stats as stats\n",
    "\n",
    "stats.ttest_rel(a = scikitErrors,\n",
    "                b = nativeErrors)"
   ]
  },
  {
   "cell_type": "markdown",
   "metadata": {},
   "source": [
    "#### Okay, The p-value (9.1488892033548435e-11) in the test output shows that the chances of seeing this large of a difference between samples due to chance is just over none - this means the model is doing well enough.\n",
    "\n",
    "In plain english, this means that we have a good implementation. Hurrayyy!!!\n",
    "\n"
   ]
  },
  {
   "cell_type": "code",
   "execution_count": 19,
   "metadata": {},
   "outputs": [
    {
     "data": {
      "text/plain": [
       "63"
      ]
     },
     "execution_count": 19,
     "metadata": {},
     "output_type": "execute_result"
    }
   ],
   "source": []
  },
  {
   "cell_type": "code",
   "execution_count": null,
   "metadata": {
    "collapsed": true
   },
   "outputs": [],
   "source": []
  }
 ],
 "metadata": {
  "kernelspec": {
   "display_name": "Python 2",
   "language": "python",
   "name": "python2"
  },
  "language_info": {
   "codemirror_mode": {
    "name": "ipython",
    "version": 2
   },
   "file_extension": ".py",
   "mimetype": "text/x-python",
   "name": "python",
   "nbconvert_exporter": "python",
   "pygments_lexer": "ipython2",
   "version": "2.7.6"
  }
 },
 "nbformat": 4,
 "nbformat_minor": 2
}
